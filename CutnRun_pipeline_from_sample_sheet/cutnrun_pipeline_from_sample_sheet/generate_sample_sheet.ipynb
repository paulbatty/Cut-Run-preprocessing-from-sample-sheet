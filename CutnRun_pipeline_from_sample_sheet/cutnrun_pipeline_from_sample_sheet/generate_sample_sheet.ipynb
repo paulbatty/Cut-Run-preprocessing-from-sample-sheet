{
 "cells": [
  {
   "cell_type": "code",
   "execution_count": 1,
   "metadata": {},
   "outputs": [],
   "source": [
    "import re\n",
    "import csv\n",
    "import os\n",
    "import pandas as pd"
   ]
  },
  {
   "cell_type": "code",
   "execution_count": 2,
   "metadata": {},
   "outputs": [
    {
     "name": "stdout",
     "output_type": "stream",
     "text": [
      "\n",
      "Number of matched barcodes: 36\n",
      "Number of non-matched barcodes: 172\n"
     ]
    }
   ],
   "source": [
    "\n",
    "# Directory containing the fastq.gz files\n",
    "path = \"*/fastq/\"\n",
    "\n",
    "# Pattern to match\n",
    "pattern = re.compile(r'IgG')\n",
    "\n",
    "# Pattern to remove endings\n",
    "ending_pattern = re.compile(r'_R[12]_001\\.fastq\\.gz$')\n",
    "\n",
    "# Get list of files in the data directory, excluding md5 files\n",
    "files = [file for file in os.listdir(path) if file.endswith('.fastq.gz') and not file.endswith('.md5')]\n",
    "\n",
    "# Perform regular expression matching on file names\n",
    "matches = [file for file in files if pattern.search(file)]\n",
    "\n",
    "# Get list of files that do not match the pattern\n",
    "non_matches = [file for file in files if not pattern.search(file)]\n",
    "\n",
    "# Print the matches and non-matches\n",
    "#print(\"Files containing 'IgG':\")\n",
    "#print(matches)\n",
    "#print(\"\\nFiles not containing 'IgG':\")\n",
    "#print(non_matches)\n",
    "\n",
    "# Remove endings and parse final barcodes, trimming white spaces\n",
    "barcodes = sorted(set([re.sub(ending_pattern, '', match).strip() for match in matches]))\n",
    "\n",
    "# Remove endings and parse final barcodes for non-matches, trimming white spaces\n",
    "non_barcodes = sorted(set([re.sub(ending_pattern, '', non_match).strip() for non_match in non_matches]))\n",
    "\n",
    "# Print the number of matches and non-matches\n",
    "print(\"\\nNumber of matched barcodes:\", len(barcodes))\n",
    "print(\"Number of non-matched barcodes:\", len(non_barcodes))\n",
    "\n",
    "\n",
    "# Create a DataFrame from the matches\n",
    "df_matches = pd.DataFrame(barcodes, columns=['barcode'])\n",
    "\n",
    "# Create a DataFrame from the non-matches\n",
    "df_non_matches = pd.DataFrame(non_barcodes, columns=['barcode'])\n",
    "\n",
    "# Write the DataFrames to CSV files in the results directory\n",
    "output_path_matches = '*/igg/sample_sheet.csv'\n",
    "df_matches.to_csv(output_path_matches, index=False)\n",
    "\n",
    "output_path_non_matches = '*/samples/sample_sheet.csv'\n",
    "df_non_matches.to_csv(output_path_non_matches, index=False)"
   ]
  },
  {
   "cell_type": "code",
   "execution_count": null,
   "metadata": {},
   "outputs": [],
   "source": []
  },
  {
   "cell_type": "code",
   "execution_count": null,
   "metadata": {},
   "outputs": [],
   "source": []
  }
 ],
 "metadata": {
  "kernelspec": {
   "display_name": "base_env",
   "language": "python",
   "name": "python3"
  },
  "language_info": {
   "codemirror_mode": {
    "name": "ipython",
    "version": 3
   },
   "file_extension": ".py",
   "mimetype": "text/x-python",
   "name": "python",
   "nbconvert_exporter": "python",
   "pygments_lexer": "ipython3",
   "version": "3.9.18"
  }
 },
 "nbformat": 4,
 "nbformat_minor": 2
}
